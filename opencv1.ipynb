{
 "cells": [
  {
   "cell_type": "code",
   "execution_count": 54,
   "id": "438a5402-024e-4e60-aa36-6bfb410b7034",
   "metadata": {},
   "outputs": [
    {
     "name": "stdout",
     "output_type": "stream",
     "text": [
      "Overwriting app.py\n"
     ]
    }
   ],
   "source": [
    "%%writefile app.py\n",
    "import streamlit as st\n",
    "import cv2\n",
    "import numpy as np\n",
    "\n",
    "# Load pre-trained MobileNet SSD model and class labels\n",
    "model_path = r\"C:\\opencv project\\ssd_mobilenet_v3_large_coco_2020_01_14.pbtxt\"\n",
    "weights_path = r\"C:\\opencv project\\frozen_inference_graph.pb\"\n",
    "net = cv2.dnn_DetectionModel(weights_path, model_path)\n",
    "\n",
    "# Load COCO class labels from labels.txt\n",
    "class_labels = []\n",
    "with open(r'C:\\opencv project\\labels.txt', 'r') as f:\n",
    "    class_labels = f.read().strip().split('\\n')\n",
    "\n",
    "# Set model configuration\n",
    "net.setInputSize(320, 320)\n",
    "net.setInputScale(1.0 / 127.5)\n",
    "net.setInputMean((127.5, 127.5, 127.5))\n",
    "net.setInputSwapRB(True)\n",
    "\n",
    "st.title(\"Webcam People Counting Application\")\n",
    "\n",
    "# Start video capture from the webcam\n",
    "cap = cv2.VideoCapture(0)\n",
    "\n",
    "# Create a placeholder for displaying video frames\n",
    "frame_placeholder = st.empty()\n",
    "\n",
    "# Streamlit button to start/stop the webcam feed\n",
    "if st.button(\"Start Webcam\"):\n",
    "    while True:\n",
    "        ret, frame = cap.read()\n",
    "        if not ret:\n",
    "            st.write(\"Failed to grab frame\")\n",
    "            break\n",
    "\n",
    "        # Detect objects in the frame\n",
    "        class_ids, confidences, bbox = net.detect(frame, confThreshold=0.5)\n",
    "\n",
    "        # Initialize a counter for people in the current frame\n",
    "        person_count = 0\n",
    "\n",
    "        # Draw bounding boxes around detected objects\n",
    "        if len(class_ids) != 0:\n",
    "            for class_id, confidence, box in zip(class_ids.flatten(), confidences.flatten(), bbox):\n",
    "                if class_id == 1:  # Class ID for 'person'\n",
    "                    person_count += 1\n",
    "                    cv2.rectangle(frame, box, color=(0, 255, 0), thickness=2)\n",
    "                    cv2.putText(frame, f'Person {confidence * 100:.2f}%', (box[0], box[1] - 10),\n",
    "                                cv2.FONT_HERSHEY_SIMPLEX, 0.5, (0, 255, 0), 2)\n",
    "\n",
    "        # Display the number of people detected\n",
    "        cv2.putText(frame, f'People Count: {person_count}', (10, 30),\n",
    "                    cv2.FONT_HERSHEY_SIMPLEX, 1, (0, 0, 255), 2)\n",
    "\n",
    "        # Convert frame to RGB and display it using Streamlit\n",
    "        frame = cv2.cvtColor(frame, cv2.COLOR_BGR2RGB)\n",
    "        frame_placeholder.image(frame, channels=\"RGB\", use_column_width=True)\n",
    "\n",
    "        # Break the loop on a keyboard interrupt (Ctrl+C in terminal)\n",
    "        if st.button(\"Stop Webcam\"):\n",
    "            break\n",
    "\n",
    "     # Release video capture\n",
    "    cap.release()\n",
    "    st.write(\"Webcam stopped.\")"
   ]
  },
  {
   "cell_type": "code",
   "execution_count": null,
   "id": "c4c1c8bf-e5fd-4af3-b257-6a8f9a76d77b",
   "metadata": {},
   "outputs": [],
   "source": []
  }
 ],
 "metadata": {
  "kernelspec": {
   "display_name": "Python 3.12",
   "language": "python",
   "name": "python312"
  },
  "language_info": {
   "codemirror_mode": {
    "name": "ipython",
    "version": 3
   },
   "file_extension": ".py",
   "mimetype": "text/x-python",
   "name": "python",
   "nbconvert_exporter": "python",
   "pygments_lexer": "ipython3",
   "version": "3.12.5"
  }
 },
 "nbformat": 4,
 "nbformat_minor": 5
}
